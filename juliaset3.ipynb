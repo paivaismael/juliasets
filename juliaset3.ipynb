{
 "cells": [
  {
   "cell_type": "code",
   "execution_count": 16,
   "metadata": {
    "collapsed": false
   },
   "outputs": [],
   "source": [
    "import numpy as np\n",
    "\n",
    "class JuliaSet(object):\n",
    "\n",
    "    def __init__(self,c,n=100):\n",
    "        self.c = c\n",
    "        self.n = n\n",
    "        self._d = 0.001\n",
    "        self._complexplane = np.array([])\n",
    "        self.set = np.array([])\n",
    "\n",
    "    def juliamap(self,z):\n",
    "        return z**2 + self.c\n",
    "\n",
    "    def iterate(self,z):\n",
    "        m=0\n",
    "        while True:\n",
    "            z=self.juliamap(z)\n",
    "            m=m+1\n",
    "            if abs(z)>2:\n",
    "                return m\n",
    "            if m>=self.n:\n",
    "                return 0\n",
    "\n",
    "    def set_spacing(self,d,l_inf=-2,l_sup=2):\n",
    "        self._d=d\n",
    "        self.l_inf = l_inf\n",
    "        self.l_sup = l_sup\n",
    "        t=np.arange(-2,2,self._d)\n",
    "        t=np.append(t,2)\n",
    "        x,y=np.meshgrid(t,t)\n",
    "        self._complexplane=x+y*1j\n",
    "\n",
    "    def generate(self):\n",
    "        iterate_vector=np.vectorize(self.iterate)\n",
    "        self.set=iterate_vector(self._complexplane)\n",
    "        return self.set"
   ]
  },
  {
   "cell_type": "markdown",
   "metadata": {
    "collapsed": true
   },
   "source": [
    "In this last version of Julia, the implementation of 'set_spacing' has changed. Instead of creating 'complexplane' element by element, now 'set_spacing' prepares the matrix x with repetitions of the vector composed by the elements of the \"arange\" and its transposed matrix y. After this, the method sums x and 1j times y. It produces a more efficient algorithm.\n",
    "\n",
    "Another change in that method is the creation of the variables l_inf and l_sup, that allows the alteration of the inferior and superior limits for the range.\n",
    "\n",
    "The last modification was made in the method 'generate' with the vectorization of the function 'iterate'. This change is not related to the efficience of the algorithm, but it helps to get a cleaner code."
   ]
  }
 ],
 "metadata": {
  "kernelspec": {
   "display_name": "Python 2",
   "language": "python",
   "name": "python2"
  },
  "language_info": {
   "codemirror_mode": {
    "name": "ipython",
    "version": 2
   },
   "file_extension": ".py",
   "mimetype": "text/x-python",
   "name": "python",
   "nbconvert_exporter": "python",
   "pygments_lexer": "ipython2",
   "version": "2.7.9"
  },
  "name": "juliaset3.ipynb"
 },
 "nbformat": 4,
 "nbformat_minor": 0
}
